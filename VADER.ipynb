{
  "nbformat": 4,
  "nbformat_minor": 0,
  "metadata": {
    "colab": {
      "name": "Copy of pbased.ipynb",
      "provenance": [],
      "collapsed_sections": [],
      "mount_file_id": "1n5w-0aX-5dR5kSZ1hmHQzZ0NRqJnADJu",
      "authorship_tag": "ABX9TyN1En1LUQugJVe3I1uiBmOH",
      "include_colab_link": true
    },
    "kernelspec": {
      "name": "python3",
      "display_name": "Python 3"
    },
    "language_info": {
      "name": "python"
    }
  },
  "cells": [
    {
      "cell_type": "markdown",
      "metadata": {
        "id": "view-in-github",
        "colab_type": "text"
      },
      "source": [
        "<a href=\"https://colab.research.google.com/github/bhartik04/IMDB-sentiment-analysis/blob/main/VADER.ipynb\" target=\"_parent\"><img src=\"https://colab.research.google.com/assets/colab-badge.svg\" alt=\"Open In Colab\"/></a>"
      ]
    },
    {
      "cell_type": "code",
      "source": [
        "pip install vaderSentiment"
      ],
      "metadata": {
        "colab": {
          "base_uri": "https://localhost:8080/"
        },
        "id": "xn2qu_iAzrfE",
        "outputId": "9f573d3a-500d-4c9e-d639-e0800f960394"
      },
      "execution_count": 1,
      "outputs": [
        {
          "output_type": "stream",
          "name": "stdout",
          "text": [
            "Looking in indexes: https://pypi.org/simple, https://us-python.pkg.dev/colab-wheels/public/simple/\n",
            "Collecting vaderSentiment\n",
            "  Downloading vaderSentiment-3.3.2-py2.py3-none-any.whl (125 kB)\n",
            "\u001b[K     |████████████████████████████████| 125 kB 5.1 MB/s \n",
            "\u001b[?25hRequirement already satisfied: requests in /usr/local/lib/python3.7/dist-packages (from vaderSentiment) (2.23.0)\n",
            "Requirement already satisfied: chardet<4,>=3.0.2 in /usr/local/lib/python3.7/dist-packages (from requests->vaderSentiment) (3.0.4)\n",
            "Requirement already satisfied: certifi>=2017.4.17 in /usr/local/lib/python3.7/dist-packages (from requests->vaderSentiment) (2022.6.15)\n",
            "Requirement already satisfied: urllib3!=1.25.0,!=1.25.1,<1.26,>=1.21.1 in /usr/local/lib/python3.7/dist-packages (from requests->vaderSentiment) (1.24.3)\n",
            "Requirement already satisfied: idna<3,>=2.5 in /usr/local/lib/python3.7/dist-packages (from requests->vaderSentiment) (2.10)\n",
            "Installing collected packages: vaderSentiment\n",
            "Successfully installed vaderSentiment-3.3.2\n"
          ]
        }
      ]
    },
    {
      "cell_type": "code",
      "source": [
        "#pip install vaderSentiment\n",
        "import nltk\n",
        "nltk.download('punkt')\n",
        "nltk.download('stopwords')\n",
        "from collections import Counter"
      ],
      "metadata": {
        "colab": {
          "base_uri": "https://localhost:8080/"
        },
        "id": "ZP6i-XDAvCZk",
        "outputId": "06591a97-9848-42d4-a65b-c17b2893efee"
      },
      "execution_count": 2,
      "outputs": [
        {
          "output_type": "stream",
          "name": "stderr",
          "text": [
            "[nltk_data] Downloading package punkt to /root/nltk_data...\n",
            "[nltk_data]   Unzipping tokenizers/punkt.zip.\n",
            "[nltk_data] Downloading package stopwords to /root/nltk_data...\n",
            "[nltk_data]   Unzipping corpora/stopwords.zip.\n"
          ]
        }
      ]
    },
    {
      "cell_type": "code",
      "execution_count": 3,
      "metadata": {
        "id": "JOLbCe7qdjBK"
      },
      "outputs": [],
      "source": [
        "import nltk\n",
        "import pandas as pd\n",
        "import matplotlib.pyplot as plt\n",
        "import numpy as np\n",
        "from vaderSentiment.vaderSentiment import SentimentIntensityAnalyzer\n",
        "pd.options.mode.chained_assignment = None"
      ]
    },
    {
      "cell_type": "code",
      "source": [
        "df=pd.read_csv(\"/content/drive/MyDrive/Bitcoin_tweets.csv\", on_bad_lines='skip')\n"
      ],
      "metadata": {
        "id": "rOjfXz8zeOEz",
        "colab": {
          "base_uri": "https://localhost:8080/"
        },
        "outputId": "4678bfe4-b87b-41e1-e831-3f4cc98eb0cd"
      },
      "execution_count": 9,
      "outputs": [
        {
          "output_type": "stream",
          "name": "stderr",
          "text": [
            "/usr/local/lib/python3.7/dist-packages/IPython/core/interactiveshell.py:3326: DtypeWarning: Columns (4,5,6,7,12) have mixed types.Specify dtype option on import or set low_memory=False.\n",
            "  exec(code_obj, self.user_global_ns, self.user_ns)\n"
          ]
        }
      ]
    },
    {
      "cell_type": "code",
      "source": [
        "len(df)"
      ],
      "metadata": {
        "colab": {
          "base_uri": "https://localhost:8080/"
        },
        "id": "_fYum8dcqXQ6",
        "outputId": "0b9ba79a-62d2-4858-c296-655f381b50b2"
      },
      "execution_count": 12,
      "outputs": [
        {
          "output_type": "execute_result",
          "data": {
            "text/plain": [
              "1767998"
            ]
          },
          "metadata": {},
          "execution_count": 12
        }
      ]
    },
    {
      "cell_type": "code",
      "source": [
        "df=df.dropna()"
      ],
      "metadata": {
        "id": "nfrJ9rzwebZo"
      },
      "execution_count": 11,
      "outputs": []
    },
    {
      "cell_type": "code",
      "source": [
        "df.head()"
      ],
      "metadata": {
        "colab": {
          "base_uri": "https://localhost:8080/",
          "height": 531
        },
        "id": "balOEfgfeo22",
        "outputId": "81bc212e-4df4-40fa-95df-24305c675045"
      },
      "execution_count": null,
      "outputs": [
        {
          "output_type": "execute_result",
          "data": {
            "text/plain": [
              "                            user_name    user_location  \\\n",
              "0  Miguel Padilla NO FINANCIAL ADVICE  Los Angeles, CA   \n",
              "1  Miguel Padilla NO FINANCIAL ADVICE  Los Angeles, CA   \n",
              "2                       alinustorvalt          SkyLine   \n",
              "5             Rixx: Trading Assistant         Def City   \n",
              "6  Miguel Padilla NO FINANCIAL ADVICE  Los Angeles, CA   \n",
              "\n",
              "                                    user_description user_created  \\\n",
              "0  #SafePal host #Bitcoin #ETH #BNB #BSV #CumRock...   2017-08-01   \n",
              "1  #SafePal host #Bitcoin #ETH #BNB #BSV #CumRock...   2017-08-01   \n",
              "2  Boy scout\\n\\n#BSC\\n#NEAR\\n#Lunatics\\n#SOL\\n#CR...   2020-06-24   \n",
              "5  Rixx is a free-to-use cryptocurrency market an...   2018-05-19   \n",
              "6  #SafePal host #Bitcoin #ETH #BNB #BSV #CumRock...   2017-08-01   \n",
              "\n",
              "  user_followers user_friends user_favourites user_verified        date  \\\n",
              "0            747           67           11446         false  2022-01-22   \n",
              "1            747           67           11446         false  2022-01-22   \n",
              "2            116         2234            4538         false  2022-01-22   \n",
              "5            220           57               3         false  2022-01-22   \n",
              "6            747           67           11446         false  2022-01-22   \n",
              "\n",
              "                                                text  \\\n",
              "0  @finequalityrugs I can't see a big drop, nor a...   \n",
              "1  @martim_rob I can't see a big drop, nor a dip,...   \n",
              "2  @DigiFinex @NEARProtocol It's a big project \\n...   \n",
              "5  4 hour top movers report #blockchain #crypto #...   \n",
              "6  @RexrodeRuth I can't see a big drop, nor a dip...   \n",
              "\n",
              "                                            hashtags               source  \\\n",
              "0                           ['Bitcoin', 'CumRocket']  Twitter for Android   \n",
              "1                           ['Bitcoin', 'CumRocket']  Twitter for Android   \n",
              "2  ['NEARProtocol', 'DigiFinex', 'crypto', 'Bitco...  Twitter for Android   \n",
              "5  ['blockchain', 'crypto', 'cryptocurrency', 'kr...                 Rixx   \n",
              "6                           ['Bitcoin', 'CumRocket']  Twitter for Android   \n",
              "\n",
              "  is_retweet  \n",
              "0      False  \n",
              "1      False  \n",
              "2      False  \n",
              "5      False  \n",
              "6      False  "
            ],
            "text/html": [
              "\n",
              "  <div id=\"df-eb0c9234-a4a9-4fd8-b658-ef6e34877629\">\n",
              "    <div class=\"colab-df-container\">\n",
              "      <div>\n",
              "<style scoped>\n",
              "    .dataframe tbody tr th:only-of-type {\n",
              "        vertical-align: middle;\n",
              "    }\n",
              "\n",
              "    .dataframe tbody tr th {\n",
              "        vertical-align: top;\n",
              "    }\n",
              "\n",
              "    .dataframe thead th {\n",
              "        text-align: right;\n",
              "    }\n",
              "</style>\n",
              "<table border=\"1\" class=\"dataframe\">\n",
              "  <thead>\n",
              "    <tr style=\"text-align: right;\">\n",
              "      <th></th>\n",
              "      <th>user_name</th>\n",
              "      <th>user_location</th>\n",
              "      <th>user_description</th>\n",
              "      <th>user_created</th>\n",
              "      <th>user_followers</th>\n",
              "      <th>user_friends</th>\n",
              "      <th>user_favourites</th>\n",
              "      <th>user_verified</th>\n",
              "      <th>date</th>\n",
              "      <th>text</th>\n",
              "      <th>hashtags</th>\n",
              "      <th>source</th>\n",
              "      <th>is_retweet</th>\n",
              "    </tr>\n",
              "  </thead>\n",
              "  <tbody>\n",
              "    <tr>\n",
              "      <th>0</th>\n",
              "      <td>Miguel Padilla NO FINANCIAL ADVICE</td>\n",
              "      <td>Los Angeles, CA</td>\n",
              "      <td>#SafePal host #Bitcoin #ETH #BNB #BSV #CumRock...</td>\n",
              "      <td>2017-08-01</td>\n",
              "      <td>747</td>\n",
              "      <td>67</td>\n",
              "      <td>11446</td>\n",
              "      <td>false</td>\n",
              "      <td>2022-01-22</td>\n",
              "      <td>@finequalityrugs I can't see a big drop, nor a...</td>\n",
              "      <td>['Bitcoin', 'CumRocket']</td>\n",
              "      <td>Twitter for Android</td>\n",
              "      <td>False</td>\n",
              "    </tr>\n",
              "    <tr>\n",
              "      <th>1</th>\n",
              "      <td>Miguel Padilla NO FINANCIAL ADVICE</td>\n",
              "      <td>Los Angeles, CA</td>\n",
              "      <td>#SafePal host #Bitcoin #ETH #BNB #BSV #CumRock...</td>\n",
              "      <td>2017-08-01</td>\n",
              "      <td>747</td>\n",
              "      <td>67</td>\n",
              "      <td>11446</td>\n",
              "      <td>false</td>\n",
              "      <td>2022-01-22</td>\n",
              "      <td>@martim_rob I can't see a big drop, nor a dip,...</td>\n",
              "      <td>['Bitcoin', 'CumRocket']</td>\n",
              "      <td>Twitter for Android</td>\n",
              "      <td>False</td>\n",
              "    </tr>\n",
              "    <tr>\n",
              "      <th>2</th>\n",
              "      <td>alinustorvalt</td>\n",
              "      <td>SkyLine</td>\n",
              "      <td>Boy scout\\n\\n#BSC\\n#NEAR\\n#Lunatics\\n#SOL\\n#CR...</td>\n",
              "      <td>2020-06-24</td>\n",
              "      <td>116</td>\n",
              "      <td>2234</td>\n",
              "      <td>4538</td>\n",
              "      <td>false</td>\n",
              "      <td>2022-01-22</td>\n",
              "      <td>@DigiFinex @NEARProtocol It's a big project \\n...</td>\n",
              "      <td>['NEARProtocol', 'DigiFinex', 'crypto', 'Bitco...</td>\n",
              "      <td>Twitter for Android</td>\n",
              "      <td>False</td>\n",
              "    </tr>\n",
              "    <tr>\n",
              "      <th>5</th>\n",
              "      <td>Rixx: Trading Assistant</td>\n",
              "      <td>Def City</td>\n",
              "      <td>Rixx is a free-to-use cryptocurrency market an...</td>\n",
              "      <td>2018-05-19</td>\n",
              "      <td>220</td>\n",
              "      <td>57</td>\n",
              "      <td>3</td>\n",
              "      <td>false</td>\n",
              "      <td>2022-01-22</td>\n",
              "      <td>4 hour top movers report #blockchain #crypto #...</td>\n",
              "      <td>['blockchain', 'crypto', 'cryptocurrency', 'kr...</td>\n",
              "      <td>Rixx</td>\n",
              "      <td>False</td>\n",
              "    </tr>\n",
              "    <tr>\n",
              "      <th>6</th>\n",
              "      <td>Miguel Padilla NO FINANCIAL ADVICE</td>\n",
              "      <td>Los Angeles, CA</td>\n",
              "      <td>#SafePal host #Bitcoin #ETH #BNB #BSV #CumRock...</td>\n",
              "      <td>2017-08-01</td>\n",
              "      <td>747</td>\n",
              "      <td>67</td>\n",
              "      <td>11446</td>\n",
              "      <td>false</td>\n",
              "      <td>2022-01-22</td>\n",
              "      <td>@RexrodeRuth I can't see a big drop, nor a dip...</td>\n",
              "      <td>['Bitcoin', 'CumRocket']</td>\n",
              "      <td>Twitter for Android</td>\n",
              "      <td>False</td>\n",
              "    </tr>\n",
              "  </tbody>\n",
              "</table>\n",
              "</div>\n",
              "      <button class=\"colab-df-convert\" onclick=\"convertToInteractive('df-eb0c9234-a4a9-4fd8-b658-ef6e34877629')\"\n",
              "              title=\"Convert this dataframe to an interactive table.\"\n",
              "              style=\"display:none;\">\n",
              "        \n",
              "  <svg xmlns=\"http://www.w3.org/2000/svg\" height=\"24px\"viewBox=\"0 0 24 24\"\n",
              "       width=\"24px\">\n",
              "    <path d=\"M0 0h24v24H0V0z\" fill=\"none\"/>\n",
              "    <path d=\"M18.56 5.44l.94 2.06.94-2.06 2.06-.94-2.06-.94-.94-2.06-.94 2.06-2.06.94zm-11 1L8.5 8.5l.94-2.06 2.06-.94-2.06-.94L8.5 2.5l-.94 2.06-2.06.94zm10 10l.94 2.06.94-2.06 2.06-.94-2.06-.94-.94-2.06-.94 2.06-2.06.94z\"/><path d=\"M17.41 7.96l-1.37-1.37c-.4-.4-.92-.59-1.43-.59-.52 0-1.04.2-1.43.59L10.3 9.45l-7.72 7.72c-.78.78-.78 2.05 0 2.83L4 21.41c.39.39.9.59 1.41.59.51 0 1.02-.2 1.41-.59l7.78-7.78 2.81-2.81c.8-.78.8-2.07 0-2.86zM5.41 20L4 18.59l7.72-7.72 1.47 1.35L5.41 20z\"/>\n",
              "  </svg>\n",
              "      </button>\n",
              "      \n",
              "  <style>\n",
              "    .colab-df-container {\n",
              "      display:flex;\n",
              "      flex-wrap:wrap;\n",
              "      gap: 12px;\n",
              "    }\n",
              "\n",
              "    .colab-df-convert {\n",
              "      background-color: #E8F0FE;\n",
              "      border: none;\n",
              "      border-radius: 50%;\n",
              "      cursor: pointer;\n",
              "      display: none;\n",
              "      fill: #1967D2;\n",
              "      height: 32px;\n",
              "      padding: 0 0 0 0;\n",
              "      width: 32px;\n",
              "    }\n",
              "\n",
              "    .colab-df-convert:hover {\n",
              "      background-color: #E2EBFA;\n",
              "      box-shadow: 0px 1px 2px rgba(60, 64, 67, 0.3), 0px 1px 3px 1px rgba(60, 64, 67, 0.15);\n",
              "      fill: #174EA6;\n",
              "    }\n",
              "\n",
              "    [theme=dark] .colab-df-convert {\n",
              "      background-color: #3B4455;\n",
              "      fill: #D2E3FC;\n",
              "    }\n",
              "\n",
              "    [theme=dark] .colab-df-convert:hover {\n",
              "      background-color: #434B5C;\n",
              "      box-shadow: 0px 1px 3px 1px rgba(0, 0, 0, 0.15);\n",
              "      filter: drop-shadow(0px 1px 2px rgba(0, 0, 0, 0.3));\n",
              "      fill: #FFFFFF;\n",
              "    }\n",
              "  </style>\n",
              "\n",
              "      <script>\n",
              "        const buttonEl =\n",
              "          document.querySelector('#df-eb0c9234-a4a9-4fd8-b658-ef6e34877629 button.colab-df-convert');\n",
              "        buttonEl.style.display =\n",
              "          google.colab.kernel.accessAllowed ? 'block' : 'none';\n",
              "\n",
              "        async function convertToInteractive(key) {\n",
              "          const element = document.querySelector('#df-eb0c9234-a4a9-4fd8-b658-ef6e34877629');\n",
              "          const dataTable =\n",
              "            await google.colab.kernel.invokeFunction('convertToInteractive',\n",
              "                                                     [key], {});\n",
              "          if (!dataTable) return;\n",
              "\n",
              "          const docLinkHtml = 'Like what you see? Visit the ' +\n",
              "            '<a target=\"_blank\" href=https://colab.research.google.com/notebooks/data_table.ipynb>data table notebook</a>'\n",
              "            + ' to learn more about interactive tables.';\n",
              "          element.innerHTML = '';\n",
              "          dataTable['output_type'] = 'display_data';\n",
              "          await google.colab.output.renderOutput(dataTable, element);\n",
              "          const docLink = document.createElement('div');\n",
              "          docLink.innerHTML = docLinkHtml;\n",
              "          element.appendChild(docLink);\n",
              "        }\n",
              "      </script>\n",
              "    </div>\n",
              "  </div>\n",
              "  "
            ]
          },
          "metadata": {},
          "execution_count": 8
        }
      ]
    },
    {
      "cell_type": "code",
      "source": [
        "len(df)"
      ],
      "metadata": {
        "colab": {
          "base_uri": "https://localhost:8080/"
        },
        "id": "IgBooX8tfNEo",
        "outputId": "95d4dcfe-97e6-4fff-aef9-631fe2562016"
      },
      "execution_count": null,
      "outputs": [
        {
          "output_type": "execute_result",
          "data": {
            "text/plain": [
              "708621"
            ]
          },
          "metadata": {},
          "execution_count": 11
        }
      ]
    },
    {
      "cell_type": "code",
      "source": [
        "df.dtypes"
      ],
      "metadata": {
        "colab": {
          "base_uri": "https://localhost:8080/"
        },
        "id": "RdZfEVwVgoFp",
        "outputId": "28cf1c01-6cce-452c-f0e3-396eaf487c4c"
      },
      "execution_count": 13,
      "outputs": [
        {
          "output_type": "execute_result",
          "data": {
            "text/plain": [
              "user_name           object\n",
              "user_location       object\n",
              "user_description    object\n",
              "user_created        object\n",
              "user_followers      object\n",
              "user_friends        object\n",
              "user_favourites     object\n",
              "user_verified       object\n",
              "date                object\n",
              "text                object\n",
              "hashtags            object\n",
              "source              object\n",
              "is_retweet          object\n",
              "dtype: object"
            ]
          },
          "metadata": {},
          "execution_count": 13
        }
      ]
    },
    {
      "cell_type": "code",
      "source": [
        "df.user_name=df.user_name.astype(str)\n",
        "df.user_location=df.user_location.astype(str)\n",
        "df.user_followers=df.user_followers.astype(float)\n",
        "df.user_favourites=df.user_favourites.astype(float)\n",
        "df.text=df.text.astype(str)\n",
        "df.date=df.date.astype(np.datetime64)"
      ],
      "metadata": {
        "id": "m0EqO_wap2RU"
      },
      "execution_count": 15,
      "outputs": []
    },
    {
      "cell_type": "code",
      "source": [
        "df.user_followers.describe()"
      ],
      "metadata": {
        "colab": {
          "base_uri": "https://localhost:8080/"
        },
        "id": "vwNboNA7rtsN",
        "outputId": "67ce271c-e4c9-4ada-df72-87dc9414c0f5"
      },
      "execution_count": 16,
      "outputs": [
        {
          "output_type": "execute_result",
          "data": {
            "text/plain": [
              "count    1.767998e+06\n",
              "mean     1.319735e+04\n",
              "std      1.362247e+05\n",
              "min      0.000000e+00\n",
              "25%      1.090000e+02\n",
              "50%      4.440000e+02\n",
              "75%      2.415000e+03\n",
              "max      2.413135e+07\n",
              "Name: user_followers, dtype: float64"
            ]
          },
          "metadata": {},
          "execution_count": 16
        }
      ]
    },
    {
      "cell_type": "code",
      "source": [
        "df=df[df.user_followers>=2.26e+03]"
      ],
      "metadata": {
        "id": "JXLv57hOfC05"
      },
      "execution_count": 17,
      "outputs": []
    },
    {
      "cell_type": "code",
      "source": [
        "len(df)"
      ],
      "metadata": {
        "colab": {
          "base_uri": "https://localhost:8080/"
        },
        "id": "6yRgaBIYsk88",
        "outputId": "c2cba7ae-a5db-4dbf-e80d-e51beb2212ec"
      },
      "execution_count": 18,
      "outputs": [
        {
          "output_type": "execute_result",
          "data": {
            "text/plain": [
              "458566"
            ]
          },
          "metadata": {},
          "execution_count": 18
        }
      ]
    },
    {
      "cell_type": "code",
      "source": [
        "df.date"
      ],
      "metadata": {
        "colab": {
          "base_uri": "https://localhost:8080/"
        },
        "id": "MuG7zo9PfGeP",
        "outputId": "67edb220-f7a2-46ac-98ab-7076ca5340c7"
      },
      "execution_count": 19,
      "outputs": [
        {
          "output_type": "execute_result",
          "data": {
            "text/plain": [
              "0         2021-02-10 23:59:04\n",
              "9         2021-02-10 23:52:08\n",
              "18        2021-02-10 23:47:13\n",
              "23        2021-02-10 23:45:03\n",
              "26        2021-02-10 23:44:02\n",
              "                  ...        \n",
              "3680462   2022-06-17 05:14:23\n",
              "3680467   2022-06-17 05:14:05\n",
              "3680484   2022-06-17 05:13:19\n",
              "3680500   2022-06-17 05:12:10\n",
              "3680503   2022-06-17 05:12:01\n",
              "Name: date, Length: 458566, dtype: datetime64[ns]"
            ]
          },
          "metadata": {},
          "execution_count": 19
        }
      ]
    },
    {
      "cell_type": "code",
      "source": [
        "analyser=SentimentIntensityAnalyzer()"
      ],
      "metadata": {
        "id": "9_8bhSfyszAz"
      },
      "execution_count": 20,
      "outputs": []
    },
    {
      "cell_type": "code",
      "source": [
        "from nltk.corpus import stopwords\n",
        "from nltk.tokenize import word_tokenize"
      ],
      "metadata": {
        "id": "yZC4o20LvLOD"
      },
      "execution_count": 21,
      "outputs": []
    },
    {
      "cell_type": "code",
      "source": [
        "sw=stopwords.words('english')\n",
        "scorelist=[]"
      ],
      "metadata": {
        "id": "8hif7NZyzdVK"
      },
      "execution_count": 22,
      "outputs": []
    },
    {
      "cell_type": "code",
      "source": [
        "tweets=df.text;\n"
      ],
      "metadata": {
        "id": "3JEQO4Ou1H9y"
      },
      "execution_count": 43,
      "outputs": []
    },
    {
      "cell_type": "code",
      "source": [],
      "metadata": {
        "id": "WO2KndLYrep3"
      },
      "execution_count": null,
      "outputs": []
    },
    {
      "cell_type": "code",
      "source": [
        "neglist=[]\n",
        "poslist=[]\n",
        "comlist=[]\n",
        "neulist=[]\n",
        "\n",
        "import re\n",
        "for i in range(len(tweets)):\n",
        "\n",
        "  r=re.findall(\"(?::|;|=)(?:-)?(?:\\)|\\(|D|P)\",tweets.iloc[i])\n",
        "  x=tweets.iloc[i]\n",
        "  x=re.sub(r\"(@[^A-Za-z0-9!]+)|[^\\w\\s] |#|http\\S+\",\"\",x)\n",
        "  x=re.sub(r\"[^a-zA-Z!]\",\" \",x)\n",
        "  x=word_tokenize(x)\n",
        "  x=[word for word in x if not word in sw]\n",
        "  x=x+r\n",
        "  x=\" \".join(x)\n",
        "  score=analyser.polarity_scores(x)\n",
        "  neglist.append(score[\"neg\"])\n",
        "  poslist.append(score[\"pos\"])\n",
        "  comlist.append(score[\"compound\"])\n",
        "  neulist.append(score[\"neu\"])\n",
        "  #print(list(score.values()))\n",
        "\n",
        "\n",
        "\n"
      ],
      "metadata": {
        "id": "23MJvwnlv02F"
      },
      "execution_count": 44,
      "outputs": []
    },
    {
      "cell_type": "code",
      "source": [
        "df[\"neutral\"]=neulist\n",
        "df[\"pos\"]=poslist\n",
        "df[\"neg\"]=neglist\n",
        "df[\"compound\"]=comlist"
      ],
      "metadata": {
        "id": "CntyKhN73BTg"
      },
      "execution_count": 48,
      "outputs": []
    },
    {
      "cell_type": "code",
      "source": [
        "def fin(row):\n",
        "  if row.compound>0.4:\n",
        "    return 1\n",
        "  elif row.compound<-0.4:\n",
        "    return -1\n",
        "  else:\n",
        "    return 0    "
      ],
      "metadata": {
        "id": "WPf4KxnQ62WW"
      },
      "execution_count": 49,
      "outputs": []
    },
    {
      "cell_type": "code",
      "source": [
        "df[\"final\"]=df.apply(lambda row:fin(row),axis=1)\n"
      ],
      "metadata": {
        "id": "TOvnCvhm3Qvc"
      },
      "execution_count": 50,
      "outputs": []
    },
    {
      "cell_type": "code",
      "source": [],
      "metadata": {
        "id": "j5texCVJwNiA"
      },
      "execution_count": null,
      "outputs": []
    },
    {
      "cell_type": "code",
      "source": [
        "dfprint=df[[\"text\",\"neutral\",\"pos\",\"neg\",\"compound\",\"final\"]]"
      ],
      "metadata": {
        "id": "DCLUm_1yE1aE"
      },
      "execution_count": 52,
      "outputs": []
    },
    {
      "cell_type": "code",
      "source": [
        "pd.set_option('display.max_colwidth', None)\n",
        "dfprint[dfprint.final==1].head()"
      ],
      "metadata": {
        "colab": {
          "base_uri": "https://localhost:8080/",
          "height": 337
        },
        "id": "vL9NirTgwsn4",
        "outputId": "4fa0a57b-ee44-4fba-931b-8072f32e7558"
      },
      "execution_count": 58,
      "outputs": [
        {
          "output_type": "execute_result",
          "data": {
            "text/plain": [
              "                                                                                                                                              text  \\\n",
              "85         Big news from MasterCard. They are working to support #crypto ! 💥 Guess what’s going to happen to the price of… https://t.co/1J1SoGqCgs   \n",
              "122   Nice spot results on #ontology $ont - 32% profit and #iota $iota - 51% profit after a month waiting for the movemen… https://t.co/K3VeGxtGpj   \n",
              "145                              #Bitcoin #BTC current price (GBP): £32,587\\nLike my updates? you can tip me at 3L9dzTLQRcxNpN89V6gfNrbaz95UQ5VMrZ   \n",
              "217  #RSRBTC hit the third target, 127 sats.🚀🚀🚀\\n\\n19 % profit in the bag already.💰💰💰\\n\\n#rsr #rsrbtc #rsrusdt $rsr #btc￼… https://t.co/yR34eLC7bI   \n",
              "262         faucet free #bitcoin \\nevery 10 minutes\\n\\nyou can buy faucet box #BTC or #Ethereum  and earn $100 every hour… https://t.co/P86YcUZz8C   \n",
              "\n",
              "     neutral    pos  neg  compound  final  \n",
              "85     0.769  0.231  0.0    0.4019      1  \n",
              "122    0.511  0.489  0.0    0.8225      1  \n",
              "145    0.658  0.342  0.0    0.7378      1  \n",
              "217    0.805  0.195  0.0    0.4404      1  \n",
              "262    0.784  0.216  0.0    0.5106      1  "
            ],
            "text/html": [
              "\n",
              "  <div id=\"df-c88be51e-d1e5-44e5-b13e-b42ff91a64d6\">\n",
              "    <div class=\"colab-df-container\">\n",
              "      <div>\n",
              "<style scoped>\n",
              "    .dataframe tbody tr th:only-of-type {\n",
              "        vertical-align: middle;\n",
              "    }\n",
              "\n",
              "    .dataframe tbody tr th {\n",
              "        vertical-align: top;\n",
              "    }\n",
              "\n",
              "    .dataframe thead th {\n",
              "        text-align: right;\n",
              "    }\n",
              "</style>\n",
              "<table border=\"1\" class=\"dataframe\">\n",
              "  <thead>\n",
              "    <tr style=\"text-align: right;\">\n",
              "      <th></th>\n",
              "      <th>text</th>\n",
              "      <th>neutral</th>\n",
              "      <th>pos</th>\n",
              "      <th>neg</th>\n",
              "      <th>compound</th>\n",
              "      <th>final</th>\n",
              "    </tr>\n",
              "  </thead>\n",
              "  <tbody>\n",
              "    <tr>\n",
              "      <th>85</th>\n",
              "      <td>Big news from MasterCard. They are working to support #crypto ! 💥 Guess what’s going to happen to the price of… https://t.co/1J1SoGqCgs</td>\n",
              "      <td>0.769</td>\n",
              "      <td>0.231</td>\n",
              "      <td>0.0</td>\n",
              "      <td>0.4019</td>\n",
              "      <td>1</td>\n",
              "    </tr>\n",
              "    <tr>\n",
              "      <th>122</th>\n",
              "      <td>Nice spot results on #ontology $ont - 32% profit and #iota $iota - 51% profit after a month waiting for the movemen… https://t.co/K3VeGxtGpj</td>\n",
              "      <td>0.511</td>\n",
              "      <td>0.489</td>\n",
              "      <td>0.0</td>\n",
              "      <td>0.8225</td>\n",
              "      <td>1</td>\n",
              "    </tr>\n",
              "    <tr>\n",
              "      <th>145</th>\n",
              "      <td>#Bitcoin #BTC current price (GBP): £32,587\\nLike my updates? you can tip me at 3L9dzTLQRcxNpN89V6gfNrbaz95UQ5VMrZ</td>\n",
              "      <td>0.658</td>\n",
              "      <td>0.342</td>\n",
              "      <td>0.0</td>\n",
              "      <td>0.7378</td>\n",
              "      <td>1</td>\n",
              "    </tr>\n",
              "    <tr>\n",
              "      <th>217</th>\n",
              "      <td>#RSRBTC hit the third target, 127 sats.🚀🚀🚀\\n\\n19 % profit in the bag already.💰💰💰\\n\\n#rsr #rsrbtc #rsrusdt $rsr #btc￼… https://t.co/yR34eLC7bI</td>\n",
              "      <td>0.805</td>\n",
              "      <td>0.195</td>\n",
              "      <td>0.0</td>\n",
              "      <td>0.4404</td>\n",
              "      <td>1</td>\n",
              "    </tr>\n",
              "    <tr>\n",
              "      <th>262</th>\n",
              "      <td>faucet free #bitcoin \\nevery 10 minutes\\n\\nyou can buy faucet box #BTC or #Ethereum  and earn $100 every hour… https://t.co/P86YcUZz8C</td>\n",
              "      <td>0.784</td>\n",
              "      <td>0.216</td>\n",
              "      <td>0.0</td>\n",
              "      <td>0.5106</td>\n",
              "      <td>1</td>\n",
              "    </tr>\n",
              "  </tbody>\n",
              "</table>\n",
              "</div>\n",
              "      <button class=\"colab-df-convert\" onclick=\"convertToInteractive('df-c88be51e-d1e5-44e5-b13e-b42ff91a64d6')\"\n",
              "              title=\"Convert this dataframe to an interactive table.\"\n",
              "              style=\"display:none;\">\n",
              "        \n",
              "  <svg xmlns=\"http://www.w3.org/2000/svg\" height=\"24px\"viewBox=\"0 0 24 24\"\n",
              "       width=\"24px\">\n",
              "    <path d=\"M0 0h24v24H0V0z\" fill=\"none\"/>\n",
              "    <path d=\"M18.56 5.44l.94 2.06.94-2.06 2.06-.94-2.06-.94-.94-2.06-.94 2.06-2.06.94zm-11 1L8.5 8.5l.94-2.06 2.06-.94-2.06-.94L8.5 2.5l-.94 2.06-2.06.94zm10 10l.94 2.06.94-2.06 2.06-.94-2.06-.94-.94-2.06-.94 2.06-2.06.94z\"/><path d=\"M17.41 7.96l-1.37-1.37c-.4-.4-.92-.59-1.43-.59-.52 0-1.04.2-1.43.59L10.3 9.45l-7.72 7.72c-.78.78-.78 2.05 0 2.83L4 21.41c.39.39.9.59 1.41.59.51 0 1.02-.2 1.41-.59l7.78-7.78 2.81-2.81c.8-.78.8-2.07 0-2.86zM5.41 20L4 18.59l7.72-7.72 1.47 1.35L5.41 20z\"/>\n",
              "  </svg>\n",
              "      </button>\n",
              "      \n",
              "  <style>\n",
              "    .colab-df-container {\n",
              "      display:flex;\n",
              "      flex-wrap:wrap;\n",
              "      gap: 12px;\n",
              "    }\n",
              "\n",
              "    .colab-df-convert {\n",
              "      background-color: #E8F0FE;\n",
              "      border: none;\n",
              "      border-radius: 50%;\n",
              "      cursor: pointer;\n",
              "      display: none;\n",
              "      fill: #1967D2;\n",
              "      height: 32px;\n",
              "      padding: 0 0 0 0;\n",
              "      width: 32px;\n",
              "    }\n",
              "\n",
              "    .colab-df-convert:hover {\n",
              "      background-color: #E2EBFA;\n",
              "      box-shadow: 0px 1px 2px rgba(60, 64, 67, 0.3), 0px 1px 3px 1px rgba(60, 64, 67, 0.15);\n",
              "      fill: #174EA6;\n",
              "    }\n",
              "\n",
              "    [theme=dark] .colab-df-convert {\n",
              "      background-color: #3B4455;\n",
              "      fill: #D2E3FC;\n",
              "    }\n",
              "\n",
              "    [theme=dark] .colab-df-convert:hover {\n",
              "      background-color: #434B5C;\n",
              "      box-shadow: 0px 1px 3px 1px rgba(0, 0, 0, 0.15);\n",
              "      filter: drop-shadow(0px 1px 2px rgba(0, 0, 0, 0.3));\n",
              "      fill: #FFFFFF;\n",
              "    }\n",
              "  </style>\n",
              "\n",
              "      <script>\n",
              "        const buttonEl =\n",
              "          document.querySelector('#df-c88be51e-d1e5-44e5-b13e-b42ff91a64d6 button.colab-df-convert');\n",
              "        buttonEl.style.display =\n",
              "          google.colab.kernel.accessAllowed ? 'block' : 'none';\n",
              "\n",
              "        async function convertToInteractive(key) {\n",
              "          const element = document.querySelector('#df-c88be51e-d1e5-44e5-b13e-b42ff91a64d6');\n",
              "          const dataTable =\n",
              "            await google.colab.kernel.invokeFunction('convertToInteractive',\n",
              "                                                     [key], {});\n",
              "          if (!dataTable) return;\n",
              "\n",
              "          const docLinkHtml = 'Like what you see? Visit the ' +\n",
              "            '<a target=\"_blank\" href=https://colab.research.google.com/notebooks/data_table.ipynb>data table notebook</a>'\n",
              "            + ' to learn more about interactive tables.';\n",
              "          element.innerHTML = '';\n",
              "          dataTable['output_type'] = 'display_data';\n",
              "          await google.colab.output.renderOutput(dataTable, element);\n",
              "          const docLink = document.createElement('div');\n",
              "          docLink.innerHTML = docLinkHtml;\n",
              "          element.appendChild(docLink);\n",
              "        }\n",
              "      </script>\n",
              "    </div>\n",
              "  </div>\n",
              "  "
            ]
          },
          "metadata": {},
          "execution_count": 58
        }
      ]
    },
    {
      "cell_type": "code",
      "source": [
        "pd.set_option('display.max_colwidth', None)\n",
        "dfprint[dfprint.final==0].head()"
      ],
      "metadata": {
        "id": "209xlXYTQnke",
        "colab": {
          "base_uri": "https://localhost:8080/",
          "height": 337
        },
        "outputId": "ecb354d4-2dbd-4f5b-f312-3892067f51fc"
      },
      "execution_count": 61,
      "outputs": [
        {
          "output_type": "execute_result",
          "data": {
            "text/plain": [
              "                                                                                                                                             text  \\\n",
              "0         Blue Ridge Bank shares halted by NYSE after #bitcoin ATM announcement https://t.co/xaaZmaJKiV @MyBlueRidgeBank… https://t.co/sgBxMkP1SI   \n",
              "9    .@Tesla’s #bitcoin investment is revolutionary for #crypto but other firms may not do the same just yet - @JPMorgan… https://t.co/WyKWfh0ELw   \n",
              "18          #Bitcoin institutional demand accelerates in 2021 says @Grayscale CEO https://t.co/HsbFlBwAL8 #BTC $BTC #crypto #cryptocurrency $GBTC   \n",
              "23  #Bitcoin’s Rally Signals the Rise of Digital Assets. This Bank Is Ahead of the Game. \\n\\nhttps://t.co/rfnDfm1Rjm via… https://t.co/YglNnC1LVn   \n",
              "26     After @Tesla: @Twitter considers adding #bitcoin to its balance sheet, says company’s CFO https://t.co/WSFoxdU6du… https://t.co/FivKtnO42w   \n",
              "\n",
              "    neutral    pos   neg  compound  final  \n",
              "0     0.804  0.196  0.00     0.296      0  \n",
              "9     1.000  0.000  0.00     0.000      0  \n",
              "18    0.880  0.000  0.12    -0.128      0  \n",
              "23    1.000  0.000  0.00     0.000      0  \n",
              "26    1.000  0.000  0.00     0.000      0  "
            ],
            "text/html": [
              "\n",
              "  <div id=\"df-66cd9f82-0b87-4cbb-9e6a-0844ccd7b81f\">\n",
              "    <div class=\"colab-df-container\">\n",
              "      <div>\n",
              "<style scoped>\n",
              "    .dataframe tbody tr th:only-of-type {\n",
              "        vertical-align: middle;\n",
              "    }\n",
              "\n",
              "    .dataframe tbody tr th {\n",
              "        vertical-align: top;\n",
              "    }\n",
              "\n",
              "    .dataframe thead th {\n",
              "        text-align: right;\n",
              "    }\n",
              "</style>\n",
              "<table border=\"1\" class=\"dataframe\">\n",
              "  <thead>\n",
              "    <tr style=\"text-align: right;\">\n",
              "      <th></th>\n",
              "      <th>text</th>\n",
              "      <th>neutral</th>\n",
              "      <th>pos</th>\n",
              "      <th>neg</th>\n",
              "      <th>compound</th>\n",
              "      <th>final</th>\n",
              "    </tr>\n",
              "  </thead>\n",
              "  <tbody>\n",
              "    <tr>\n",
              "      <th>0</th>\n",
              "      <td>Blue Ridge Bank shares halted by NYSE after #bitcoin ATM announcement https://t.co/xaaZmaJKiV @MyBlueRidgeBank… https://t.co/sgBxMkP1SI</td>\n",
              "      <td>0.804</td>\n",
              "      <td>0.196</td>\n",
              "      <td>0.00</td>\n",
              "      <td>0.296</td>\n",
              "      <td>0</td>\n",
              "    </tr>\n",
              "    <tr>\n",
              "      <th>9</th>\n",
              "      <td>.@Tesla’s #bitcoin investment is revolutionary for #crypto but other firms may not do the same just yet - @JPMorgan… https://t.co/WyKWfh0ELw</td>\n",
              "      <td>1.000</td>\n",
              "      <td>0.000</td>\n",
              "      <td>0.00</td>\n",
              "      <td>0.000</td>\n",
              "      <td>0</td>\n",
              "    </tr>\n",
              "    <tr>\n",
              "      <th>18</th>\n",
              "      <td>#Bitcoin institutional demand accelerates in 2021 says @Grayscale CEO https://t.co/HsbFlBwAL8 #BTC $BTC #crypto #cryptocurrency $GBTC</td>\n",
              "      <td>0.880</td>\n",
              "      <td>0.000</td>\n",
              "      <td>0.12</td>\n",
              "      <td>-0.128</td>\n",
              "      <td>0</td>\n",
              "    </tr>\n",
              "    <tr>\n",
              "      <th>23</th>\n",
              "      <td>#Bitcoin’s Rally Signals the Rise of Digital Assets. This Bank Is Ahead of the Game. \\n\\nhttps://t.co/rfnDfm1Rjm via… https://t.co/YglNnC1LVn</td>\n",
              "      <td>1.000</td>\n",
              "      <td>0.000</td>\n",
              "      <td>0.00</td>\n",
              "      <td>0.000</td>\n",
              "      <td>0</td>\n",
              "    </tr>\n",
              "    <tr>\n",
              "      <th>26</th>\n",
              "      <td>After @Tesla: @Twitter considers adding #bitcoin to its balance sheet, says company’s CFO https://t.co/WSFoxdU6du… https://t.co/FivKtnO42w</td>\n",
              "      <td>1.000</td>\n",
              "      <td>0.000</td>\n",
              "      <td>0.00</td>\n",
              "      <td>0.000</td>\n",
              "      <td>0</td>\n",
              "    </tr>\n",
              "  </tbody>\n",
              "</table>\n",
              "</div>\n",
              "      <button class=\"colab-df-convert\" onclick=\"convertToInteractive('df-66cd9f82-0b87-4cbb-9e6a-0844ccd7b81f')\"\n",
              "              title=\"Convert this dataframe to an interactive table.\"\n",
              "              style=\"display:none;\">\n",
              "        \n",
              "  <svg xmlns=\"http://www.w3.org/2000/svg\" height=\"24px\"viewBox=\"0 0 24 24\"\n",
              "       width=\"24px\">\n",
              "    <path d=\"M0 0h24v24H0V0z\" fill=\"none\"/>\n",
              "    <path d=\"M18.56 5.44l.94 2.06.94-2.06 2.06-.94-2.06-.94-.94-2.06-.94 2.06-2.06.94zm-11 1L8.5 8.5l.94-2.06 2.06-.94-2.06-.94L8.5 2.5l-.94 2.06-2.06.94zm10 10l.94 2.06.94-2.06 2.06-.94-2.06-.94-.94-2.06-.94 2.06-2.06.94z\"/><path d=\"M17.41 7.96l-1.37-1.37c-.4-.4-.92-.59-1.43-.59-.52 0-1.04.2-1.43.59L10.3 9.45l-7.72 7.72c-.78.78-.78 2.05 0 2.83L4 21.41c.39.39.9.59 1.41.59.51 0 1.02-.2 1.41-.59l7.78-7.78 2.81-2.81c.8-.78.8-2.07 0-2.86zM5.41 20L4 18.59l7.72-7.72 1.47 1.35L5.41 20z\"/>\n",
              "  </svg>\n",
              "      </button>\n",
              "      \n",
              "  <style>\n",
              "    .colab-df-container {\n",
              "      display:flex;\n",
              "      flex-wrap:wrap;\n",
              "      gap: 12px;\n",
              "    }\n",
              "\n",
              "    .colab-df-convert {\n",
              "      background-color: #E8F0FE;\n",
              "      border: none;\n",
              "      border-radius: 50%;\n",
              "      cursor: pointer;\n",
              "      display: none;\n",
              "      fill: #1967D2;\n",
              "      height: 32px;\n",
              "      padding: 0 0 0 0;\n",
              "      width: 32px;\n",
              "    }\n",
              "\n",
              "    .colab-df-convert:hover {\n",
              "      background-color: #E2EBFA;\n",
              "      box-shadow: 0px 1px 2px rgba(60, 64, 67, 0.3), 0px 1px 3px 1px rgba(60, 64, 67, 0.15);\n",
              "      fill: #174EA6;\n",
              "    }\n",
              "\n",
              "    [theme=dark] .colab-df-convert {\n",
              "      background-color: #3B4455;\n",
              "      fill: #D2E3FC;\n",
              "    }\n",
              "\n",
              "    [theme=dark] .colab-df-convert:hover {\n",
              "      background-color: #434B5C;\n",
              "      box-shadow: 0px 1px 3px 1px rgba(0, 0, 0, 0.15);\n",
              "      filter: drop-shadow(0px 1px 2px rgba(0, 0, 0, 0.3));\n",
              "      fill: #FFFFFF;\n",
              "    }\n",
              "  </style>\n",
              "\n",
              "      <script>\n",
              "        const buttonEl =\n",
              "          document.querySelector('#df-66cd9f82-0b87-4cbb-9e6a-0844ccd7b81f button.colab-df-convert');\n",
              "        buttonEl.style.display =\n",
              "          google.colab.kernel.accessAllowed ? 'block' : 'none';\n",
              "\n",
              "        async function convertToInteractive(key) {\n",
              "          const element = document.querySelector('#df-66cd9f82-0b87-4cbb-9e6a-0844ccd7b81f');\n",
              "          const dataTable =\n",
              "            await google.colab.kernel.invokeFunction('convertToInteractive',\n",
              "                                                     [key], {});\n",
              "          if (!dataTable) return;\n",
              "\n",
              "          const docLinkHtml = 'Like what you see? Visit the ' +\n",
              "            '<a target=\"_blank\" href=https://colab.research.google.com/notebooks/data_table.ipynb>data table notebook</a>'\n",
              "            + ' to learn more about interactive tables.';\n",
              "          element.innerHTML = '';\n",
              "          dataTable['output_type'] = 'display_data';\n",
              "          await google.colab.output.renderOutput(dataTable, element);\n",
              "          const docLink = document.createElement('div');\n",
              "          docLink.innerHTML = docLinkHtml;\n",
              "          element.appendChild(docLink);\n",
              "        }\n",
              "      </script>\n",
              "    </div>\n",
              "  </div>\n",
              "  "
            ]
          },
          "metadata": {},
          "execution_count": 61
        }
      ]
    },
    {
      "cell_type": "code",
      "source": [
        "pd.set_option('display.max_colwidth', None)\n",
        "dfprint[dfprint.final==-1].head()"
      ],
      "metadata": {
        "id": "CF-chymQ78GC",
        "colab": {
          "base_uri": "https://localhost:8080/",
          "height": 320
        },
        "outputId": "58848d8d-b84d-4d74-c233-cf15ce3931d6"
      },
      "execution_count": 62,
      "outputs": [
        {
          "output_type": "execute_result",
          "data": {
            "text/plain": [
              "                                                                                                                                            text  \\\n",
              "81   Forget #Dogecoin. #Bitcoin is still available to us poorer folks! Up to $200 per hour free, no catch, notta zilch!… https://t.co/wbC9k4eYUD   \n",
              "125                   https://t.co/zdsqyF1dxf #Ethereum killers and layer-2 tokens rally despite 5% #Bitcoin price drop… https://t.co/fU7GLhyE3c   \n",
              "136                               #ethereum killers and layer-2 tokens rally despite 5% #bitcoin price drop #crypto #btc https://t.co/w64UGYzDOB   \n",
              "279            SIGN UP FOR #AUTOFAUCET !!\\n\\n- NO WITHDRAWAL MINIMUM !\\n- Claim daily #Crypto !\\n- Tasks &amp; mining !… https://t.co/amz82FGgKg   \n",
              "573                       Nigerian #Bitcoin Traders Flock to P2P Exchanges Following Ban \\n\\nBY: Ogwu Osaemezu Emmanuel… https://t.co/ehKuNsBUHg   \n",
              "\n",
              "     neutral    pos    neg  compound  final  \n",
              "81     0.701  0.000  0.299   -0.5707     -1  \n",
              "125    0.534  0.138  0.328   -0.5402     -1  \n",
              "136    0.595  0.120  0.285   -0.5402     -1  \n",
              "279    0.761  0.000  0.239   -0.5730     -1  \n",
              "573    0.753  0.000  0.247   -0.5574     -1  "
            ],
            "text/html": [
              "\n",
              "  <div id=\"df-58752fbf-7426-4540-9a0d-4b090fa90bfc\">\n",
              "    <div class=\"colab-df-container\">\n",
              "      <div>\n",
              "<style scoped>\n",
              "    .dataframe tbody tr th:only-of-type {\n",
              "        vertical-align: middle;\n",
              "    }\n",
              "\n",
              "    .dataframe tbody tr th {\n",
              "        vertical-align: top;\n",
              "    }\n",
              "\n",
              "    .dataframe thead th {\n",
              "        text-align: right;\n",
              "    }\n",
              "</style>\n",
              "<table border=\"1\" class=\"dataframe\">\n",
              "  <thead>\n",
              "    <tr style=\"text-align: right;\">\n",
              "      <th></th>\n",
              "      <th>text</th>\n",
              "      <th>neutral</th>\n",
              "      <th>pos</th>\n",
              "      <th>neg</th>\n",
              "      <th>compound</th>\n",
              "      <th>final</th>\n",
              "    </tr>\n",
              "  </thead>\n",
              "  <tbody>\n",
              "    <tr>\n",
              "      <th>81</th>\n",
              "      <td>Forget #Dogecoin. #Bitcoin is still available to us poorer folks! Up to $200 per hour free, no catch, notta zilch!… https://t.co/wbC9k4eYUD</td>\n",
              "      <td>0.701</td>\n",
              "      <td>0.000</td>\n",
              "      <td>0.299</td>\n",
              "      <td>-0.5707</td>\n",
              "      <td>-1</td>\n",
              "    </tr>\n",
              "    <tr>\n",
              "      <th>125</th>\n",
              "      <td>https://t.co/zdsqyF1dxf #Ethereum killers and layer-2 tokens rally despite 5% #Bitcoin price drop… https://t.co/fU7GLhyE3c</td>\n",
              "      <td>0.534</td>\n",
              "      <td>0.138</td>\n",
              "      <td>0.328</td>\n",
              "      <td>-0.5402</td>\n",
              "      <td>-1</td>\n",
              "    </tr>\n",
              "    <tr>\n",
              "      <th>136</th>\n",
              "      <td>#ethereum killers and layer-2 tokens rally despite 5% #bitcoin price drop #crypto #btc https://t.co/w64UGYzDOB</td>\n",
              "      <td>0.595</td>\n",
              "      <td>0.120</td>\n",
              "      <td>0.285</td>\n",
              "      <td>-0.5402</td>\n",
              "      <td>-1</td>\n",
              "    </tr>\n",
              "    <tr>\n",
              "      <th>279</th>\n",
              "      <td>SIGN UP FOR #AUTOFAUCET !!\\n\\n- NO WITHDRAWAL MINIMUM !\\n- Claim daily #Crypto !\\n- Tasks &amp;amp; mining !… https://t.co/amz82FGgKg</td>\n",
              "      <td>0.761</td>\n",
              "      <td>0.000</td>\n",
              "      <td>0.239</td>\n",
              "      <td>-0.5730</td>\n",
              "      <td>-1</td>\n",
              "    </tr>\n",
              "    <tr>\n",
              "      <th>573</th>\n",
              "      <td>Nigerian #Bitcoin Traders Flock to P2P Exchanges Following Ban \\n\\nBY: Ogwu Osaemezu Emmanuel… https://t.co/ehKuNsBUHg</td>\n",
              "      <td>0.753</td>\n",
              "      <td>0.000</td>\n",
              "      <td>0.247</td>\n",
              "      <td>-0.5574</td>\n",
              "      <td>-1</td>\n",
              "    </tr>\n",
              "  </tbody>\n",
              "</table>\n",
              "</div>\n",
              "      <button class=\"colab-df-convert\" onclick=\"convertToInteractive('df-58752fbf-7426-4540-9a0d-4b090fa90bfc')\"\n",
              "              title=\"Convert this dataframe to an interactive table.\"\n",
              "              style=\"display:none;\">\n",
              "        \n",
              "  <svg xmlns=\"http://www.w3.org/2000/svg\" height=\"24px\"viewBox=\"0 0 24 24\"\n",
              "       width=\"24px\">\n",
              "    <path d=\"M0 0h24v24H0V0z\" fill=\"none\"/>\n",
              "    <path d=\"M18.56 5.44l.94 2.06.94-2.06 2.06-.94-2.06-.94-.94-2.06-.94 2.06-2.06.94zm-11 1L8.5 8.5l.94-2.06 2.06-.94-2.06-.94L8.5 2.5l-.94 2.06-2.06.94zm10 10l.94 2.06.94-2.06 2.06-.94-2.06-.94-.94-2.06-.94 2.06-2.06.94z\"/><path d=\"M17.41 7.96l-1.37-1.37c-.4-.4-.92-.59-1.43-.59-.52 0-1.04.2-1.43.59L10.3 9.45l-7.72 7.72c-.78.78-.78 2.05 0 2.83L4 21.41c.39.39.9.59 1.41.59.51 0 1.02-.2 1.41-.59l7.78-7.78 2.81-2.81c.8-.78.8-2.07 0-2.86zM5.41 20L4 18.59l7.72-7.72 1.47 1.35L5.41 20z\"/>\n",
              "  </svg>\n",
              "      </button>\n",
              "      \n",
              "  <style>\n",
              "    .colab-df-container {\n",
              "      display:flex;\n",
              "      flex-wrap:wrap;\n",
              "      gap: 12px;\n",
              "    }\n",
              "\n",
              "    .colab-df-convert {\n",
              "      background-color: #E8F0FE;\n",
              "      border: none;\n",
              "      border-radius: 50%;\n",
              "      cursor: pointer;\n",
              "      display: none;\n",
              "      fill: #1967D2;\n",
              "      height: 32px;\n",
              "      padding: 0 0 0 0;\n",
              "      width: 32px;\n",
              "    }\n",
              "\n",
              "    .colab-df-convert:hover {\n",
              "      background-color: #E2EBFA;\n",
              "      box-shadow: 0px 1px 2px rgba(60, 64, 67, 0.3), 0px 1px 3px 1px rgba(60, 64, 67, 0.15);\n",
              "      fill: #174EA6;\n",
              "    }\n",
              "\n",
              "    [theme=dark] .colab-df-convert {\n",
              "      background-color: #3B4455;\n",
              "      fill: #D2E3FC;\n",
              "    }\n",
              "\n",
              "    [theme=dark] .colab-df-convert:hover {\n",
              "      background-color: #434B5C;\n",
              "      box-shadow: 0px 1px 3px 1px rgba(0, 0, 0, 0.15);\n",
              "      filter: drop-shadow(0px 1px 2px rgba(0, 0, 0, 0.3));\n",
              "      fill: #FFFFFF;\n",
              "    }\n",
              "  </style>\n",
              "\n",
              "      <script>\n",
              "        const buttonEl =\n",
              "          document.querySelector('#df-58752fbf-7426-4540-9a0d-4b090fa90bfc button.colab-df-convert');\n",
              "        buttonEl.style.display =\n",
              "          google.colab.kernel.accessAllowed ? 'block' : 'none';\n",
              "\n",
              "        async function convertToInteractive(key) {\n",
              "          const element = document.querySelector('#df-58752fbf-7426-4540-9a0d-4b090fa90bfc');\n",
              "          const dataTable =\n",
              "            await google.colab.kernel.invokeFunction('convertToInteractive',\n",
              "                                                     [key], {});\n",
              "          if (!dataTable) return;\n",
              "\n",
              "          const docLinkHtml = 'Like what you see? Visit the ' +\n",
              "            '<a target=\"_blank\" href=https://colab.research.google.com/notebooks/data_table.ipynb>data table notebook</a>'\n",
              "            + ' to learn more about interactive tables.';\n",
              "          element.innerHTML = '';\n",
              "          dataTable['output_type'] = 'display_data';\n",
              "          await google.colab.output.renderOutput(dataTable, element);\n",
              "          const docLink = document.createElement('div');\n",
              "          docLink.innerHTML = docLinkHtml;\n",
              "          element.appendChild(docLink);\n",
              "        }\n",
              "      </script>\n",
              "    </div>\n",
              "  </div>\n",
              "  "
            ]
          },
          "metadata": {},
          "execution_count": 62
        }
      ]
    }
  ]
}